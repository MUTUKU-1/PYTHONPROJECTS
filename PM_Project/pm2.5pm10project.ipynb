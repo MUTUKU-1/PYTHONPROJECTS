{
 "cells": [
  {
   "cell_type": "markdown",
   "id": "8a577ba9",
   "metadata": {},
   "source": [
    "READING AND FRAMING DATA (PM2.5 & PM 10) FROM FIDAS 200"
   ]
  },
  {
   "cell_type": "code",
   "execution_count": 3,
   "id": "9a95a56d",
   "metadata": {},
   "outputs": [
    {
     "name": "stdout",
     "output_type": "stream",
     "text": [
      "                     pm2.5_fidas  pm10_fidas\n",
      "hour                                        \n",
      "2025-07-07 00:00:00     7.655551    9.162436\n",
      "2025-07-07 01:00:00     8.691460   10.001117\n",
      "2025-07-07 02:00:00     5.816341    6.941643\n",
      "2025-07-07 03:00:00     6.920723    8.458798\n",
      "2025-07-07 04:00:00     8.737209   10.831236\n",
      "2025-07-07 05:00:00     5.360234    6.208059\n",
      "2025-07-07 06:00:00     1.615807    1.911242\n",
      "2025-07-07 07:00:00     2.043515    2.363016\n",
      "2025-07-07 08:00:00     3.177291    3.600274\n",
      "2025-07-07 09:00:00     5.566845    6.238856\n",
      "2025-07-07 10:00:00     6.148773    7.506386\n",
      "2025-07-07 11:00:00     5.480676    7.245462\n",
      "2025-07-07 12:00:00     6.978047    9.495774\n",
      "2025-07-07 13:00:00     8.420806   11.549124\n",
      "2025-07-07 14:00:00    10.618623   13.510493\n",
      "2025-07-07 15:00:00    12.587017   16.057449\n",
      "2025-07-07 16:00:00     8.999057   11.396823\n",
      "2025-07-07 17:00:00     9.856146   12.231314\n",
      "2025-07-07 18:00:00    11.366491   13.231521\n",
      "2025-07-07 19:00:00     9.364453   11.051777\n",
      "2025-07-07 20:00:00     7.794279    9.483004\n",
      "2025-07-07 21:00:00     7.798891    9.369804\n",
      "2025-07-07 22:00:00     8.172631   10.018803\n",
      "2025-07-07 23:00:00     8.359791   10.178091\n",
      "2025-07-08 00:00:00     9.032623   11.035289\n",
      "2025-07-08 01:00:00     8.861603   10.670700\n",
      "2025-07-08 02:00:00     9.537064   11.388112\n",
      "2025-07-08 03:00:00     9.358457   10.492103\n",
      "2025-07-08 04:00:00     9.141170   10.003955\n",
      "2025-07-08 05:00:00    10.758763   12.340972\n",
      "2025-07-08 06:00:00    12.951790   14.404423\n",
      "2025-07-08 07:00:00    11.675718   12.837548\n",
      "2025-07-08 08:00:00    13.915010   15.167323\n",
      "2025-07-08 09:00:00    17.035134   18.642830\n",
      "2025-07-08 10:00:00    13.675705   15.547561\n",
      "2025-07-08 11:00:00    14.462874   16.391255\n",
      "2025-07-08 12:00:00    10.612573   13.247102\n",
      "2025-07-08 13:00:00    11.303432   13.408424\n",
      "2025-07-08 14:00:00    11.952731   13.835830\n",
      "2025-07-08 15:00:00    13.317894   15.993402\n",
      "2025-07-08 16:00:00    10.234127   11.617240\n",
      "2025-07-08 17:00:00    15.286503   17.267603\n",
      "2025-07-08 18:00:00    10.303485   11.829713\n",
      "2025-07-08 19:00:00     9.939944   11.222717\n",
      "2025-07-08 20:00:00     9.204930   10.320360\n",
      "2025-07-08 21:00:00     8.783382    9.948583\n",
      "2025-07-08 22:00:00     8.338892    9.727729\n",
      "2025-07-08 23:00:00     8.869971    9.735321\n",
      "2025-07-09 00:00:00    12.626146   13.566713\n",
      "2025-07-09 01:00:00    13.270778   14.034170\n",
      "2025-07-09 02:00:00    11.808899   12.961073\n",
      "2025-07-09 03:00:00    10.820603   11.672136\n",
      "2025-07-09 04:00:00     9.776161   10.573200\n",
      "2025-07-09 05:00:00     8.289036    9.622284\n",
      "2025-07-09 06:00:00    10.706341   12.001563\n",
      "2025-07-09 07:00:00    12.737969   14.858931\n",
      "2025-07-09 08:00:00    12.090749   13.499028\n",
      "2025-07-09 09:00:00    11.846138   13.530659\n",
      "2025-07-09 10:00:00     8.815470   10.239586\n"
     ]
    }
   ],
   "source": [
    "import pandas as pd\n",
    "\n",
    "#Load the FIDAS data\n",
    "# Adjust the separator based on your file format: tab-delimited\n",
    "df = pd.read_csv(\n",
    "    'FIDAS_DATA.txt',\n",
    "    sep='\\t',\n",
    "    header=0,\n",
    "    dtype=str  #Load everything as string to ensure control over parsing\n",
    ")\n",
    "\n",
    "#Build a proper datetime column \n",
    "df['datetime'] = pd.to_datetime(\n",
    "    df['date'].str.strip() + ' ' + df['time'].str.strip(),\n",
    "    dayfirst=True,\n",
    "    errors='coerce'\n",
    ")\n",
    "\n",
    "#Drop rows with invalid datetime\n",
    "df.dropna(subset=['datetime'], inplace=True)\n",
    "\n",
    "# Convert PM values to numeric \n",
    "df['pm25'] = pd.to_numeric(df['PM2.5'], errors='coerce')\n",
    "df['pm10'] = pd.to_numeric(df['PM10'], errors='coerce')\n",
    "\n",
    "# Drop rows with missing PM values\n",
    "df.dropna(subset=['pm25', 'pm10'], inplace=True)\n",
    "\n",
    "#Filter for July 7–9, 2025\n",
    "mask = (df['datetime'] >= '2025-07-07') & (df['datetime'] < '2025-07-10')\n",
    "df_subset = df.loc[mask].copy()\n",
    "\n",
    "# Round down to hourly timestamps\n",
    "df_subset['hour'] = df_subset['datetime'].dt.floor('h')\n",
    "\n",
    "# Group by each hour and compute averages \n",
    "fidas = (\n",
    "    df_subset\n",
    "      .groupby('hour')[['pm25', 'pm10']]\n",
    "      .mean()\n",
    "      .rename(columns={'pm25': 'pm2.5_fidas', 'pm10': 'pm10_fidas'})\n",
    "      .sort_index()\n",
    ")\n",
    "\n",
    "print(fidas)\n"
   ]
  },
  {
   "cell_type": "markdown",
   "id": "0821150f",
   "metadata": {},
   "source": [
    "READING AND FRAMING DATA (PM2.5 & PM 10) FROM AIR QUALITY SENSOR (AQ_SENSOR)"
   ]
  },
  {
   "cell_type": "code",
   "execution_count": 4,
   "id": "b383f844",
   "metadata": {},
   "outputs": [
    {
     "name": "stdout",
     "output_type": "stream",
     "text": [
      "                     PM2.5_aqsensor  PM10_aqsensor\n",
      "hour                                              \n",
      "2025-07-07 10:00:00             8.0           12.0\n",
      "2025-07-07 11:00:00             7.0           10.0\n",
      "2025-07-07 12:00:00             9.0           15.0\n",
      "2025-07-07 13:00:00            12.0           21.0\n",
      "2025-07-07 14:00:00            17.0           29.0\n",
      "2025-07-07 15:00:00            19.0           34.0\n",
      "2025-07-07 16:00:00            14.0           24.0\n",
      "2025-07-07 17:00:00            16.0           27.0\n",
      "2025-07-07 18:00:00            19.0           31.0\n",
      "2025-07-07 19:00:00            14.0           22.0\n",
      "2025-07-07 20:00:00            12.0           18.0\n",
      "2025-07-07 21:00:00            12.0           18.0\n",
      "2025-07-07 22:00:00            12.0           20.0\n",
      "2025-07-07 23:00:00            13.0           22.0\n",
      "2025-07-08 00:00:00            15.0           23.0\n",
      "2025-07-08 01:00:00            15.0           24.0\n",
      "2025-07-08 02:00:00            18.0           28.0\n",
      "2025-07-08 03:00:00            17.0           25.0\n",
      "2025-07-08 04:00:00            17.0           26.0\n",
      "2025-07-08 05:00:00            19.0           30.0\n",
      "2025-07-08 06:00:00            20.0           32.0\n",
      "2025-07-08 07:00:00            17.0           26.0\n",
      "2025-07-08 08:00:00            21.0           32.0\n",
      "2025-07-08 09:00:00            24.0           37.0\n",
      "2025-07-08 10:00:00            18.0           29.0\n",
      "2025-07-08 11:00:00            18.0           28.0\n",
      "2025-07-08 12:00:00            17.0           28.0\n",
      "2025-07-08 13:00:00            18.0           29.0\n",
      "2025-07-08 14:00:00            19.0           30.0\n",
      "2025-07-08 15:00:00            19.0           33.0\n",
      "2025-07-08 16:00:00            21.0           38.0\n",
      "2025-07-08 17:00:00            21.0           35.0\n",
      "2025-07-08 18:00:00            16.0           26.0\n",
      "2025-07-08 19:00:00            16.0           26.0\n",
      "2025-07-08 20:00:00            15.0           23.0\n",
      "2025-07-08 21:00:00            14.0           22.0\n",
      "2025-07-08 22:00:00            13.0           20.0\n",
      "2025-07-08 23:00:00            14.0           22.0\n",
      "2025-07-09 00:00:00            19.0           30.0\n",
      "2025-07-09 01:00:00            19.0           29.0\n",
      "2025-07-09 02:00:00            18.0           28.0\n",
      "2025-07-09 03:00:00            17.0           26.0\n",
      "2025-07-09 04:00:00            16.0           24.0\n",
      "2025-07-09 05:00:00            13.0           19.0\n",
      "2025-07-09 06:00:00            17.0           26.0\n",
      "2025-07-09 07:00:00            18.0           29.0\n",
      "2025-07-09 08:00:00            19.0           29.0\n",
      "2025-07-09 09:00:00            16.0           25.0\n"
     ]
    }
   ],
   "source": [
    "import json\n",
    "import pandas as pd\n",
    "\n",
    "# Load the JSON file\n",
    "with open(\"AQ_SENSOR_DATA.txt\", \"r\") as f:\n",
    "    data = json.load(f)\n",
    "\n",
    "# Extract hourly records into a DataFrame\n",
    "records = data[\"historical\"][\"hourly\"]\n",
    "df = pd.DataFrame([{\n",
    "    \"datetime\": pd.to_datetime(rec[\"ts\"]).tz_convert(None),\n",
    "    \"PM2.5_aqsensor\": rec[\"pm25\"][\"conc\"],\n",
    "    \"PM10_aqsensor\": rec[\"pm10\"][\"conc\"]\n",
    "} for rec in records])\n",
    "\n",
    "# Filter for July 7–9, 2025\n",
    "mask = (df[\"datetime\"] >= \"2025-07-07\") & (df[\"datetime\"] < \"2025-07-10\")\n",
    "df_filtered = df.loc[mask].copy()\n",
    "\n",
    "# Round down to the hour and group\n",
    "df_filtered[\"hour\"] = df_filtered[\"datetime\"].dt.floor(\"h\")\n",
    "hourly_avg = df_filtered.groupby(\"hour\")[[\"PM2.5_aqsensor\", \"PM10_aqsensor\"]].mean()\n",
    "\n",
    "print(hourly_avg)\n"
   ]
  },
  {
   "cell_type": "markdown",
   "id": "65ea0371",
   "metadata": {},
   "source": [
    "MERGE THE HOURLY DATA (PM2.5 & PM10) FROM THE TWO INTRUMENTS"
   ]
  },
  {
   "cell_type": "code",
   "execution_count": 6,
   "id": "1d6bdf2d",
   "metadata": {},
   "outputs": [
    {
     "name": "stdout",
     "output_type": "stream",
     "text": [
      "                     pm2.5_fidas  pm10_fidas  PM2.5_aqsensor  PM10_aqsensor\n",
      "hour                                                                       \n",
      "2025-07-07 00:00:00     7.655551    9.162436             NaN            NaN\n",
      "2025-07-07 01:00:00     8.691460   10.001117             NaN            NaN\n",
      "2025-07-07 02:00:00     5.816341    6.941643             NaN            NaN\n",
      "2025-07-07 03:00:00     6.920723    8.458798             NaN            NaN\n",
      "2025-07-07 04:00:00     8.737209   10.831236             NaN            NaN\n",
      "2025-07-07 05:00:00     5.360234    6.208059             NaN            NaN\n",
      "2025-07-07 06:00:00     1.615807    1.911242             NaN            NaN\n",
      "2025-07-07 07:00:00     2.043515    2.363016             NaN            NaN\n",
      "2025-07-07 08:00:00     3.177291    3.600274             NaN            NaN\n",
      "2025-07-07 09:00:00     5.566845    6.238856             NaN            NaN\n",
      "2025-07-07 10:00:00     6.148773    7.506386             8.0           12.0\n",
      "2025-07-07 11:00:00     5.480676    7.245462             7.0           10.0\n",
      "2025-07-07 12:00:00     6.978047    9.495774             9.0           15.0\n",
      "2025-07-07 13:00:00     8.420806   11.549124            12.0           21.0\n",
      "2025-07-07 14:00:00    10.618623   13.510493            17.0           29.0\n",
      "2025-07-07 15:00:00    12.587017   16.057449            19.0           34.0\n",
      "2025-07-07 16:00:00     8.999057   11.396823            14.0           24.0\n",
      "2025-07-07 17:00:00     9.856146   12.231314            16.0           27.0\n",
      "2025-07-07 18:00:00    11.366491   13.231521            19.0           31.0\n",
      "2025-07-07 19:00:00     9.364453   11.051777            14.0           22.0\n",
      "2025-07-07 20:00:00     7.794279    9.483004            12.0           18.0\n",
      "2025-07-07 21:00:00     7.798891    9.369804            12.0           18.0\n",
      "2025-07-07 22:00:00     8.172631   10.018803            12.0           20.0\n",
      "2025-07-07 23:00:00     8.359791   10.178091            13.0           22.0\n",
      "2025-07-08 00:00:00     9.032623   11.035289            15.0           23.0\n",
      "2025-07-08 01:00:00     8.861603   10.670700            15.0           24.0\n",
      "2025-07-08 02:00:00     9.537064   11.388112            18.0           28.0\n",
      "2025-07-08 03:00:00     9.358457   10.492103            17.0           25.0\n",
      "2025-07-08 04:00:00     9.141170   10.003955            17.0           26.0\n",
      "2025-07-08 05:00:00    10.758763   12.340972            19.0           30.0\n",
      "2025-07-08 06:00:00    12.951790   14.404423            20.0           32.0\n",
      "2025-07-08 07:00:00    11.675718   12.837548            17.0           26.0\n",
      "2025-07-08 08:00:00    13.915010   15.167323            21.0           32.0\n",
      "2025-07-08 09:00:00    17.035134   18.642830            24.0           37.0\n",
      "2025-07-08 10:00:00    13.675705   15.547561            18.0           29.0\n",
      "2025-07-08 11:00:00    14.462874   16.391255            18.0           28.0\n",
      "2025-07-08 12:00:00    10.612573   13.247102            17.0           28.0\n",
      "2025-07-08 13:00:00    11.303432   13.408424            18.0           29.0\n",
      "2025-07-08 14:00:00    11.952731   13.835830            19.0           30.0\n",
      "2025-07-08 15:00:00    13.317894   15.993402            19.0           33.0\n",
      "2025-07-08 16:00:00    10.234127   11.617240            21.0           38.0\n",
      "2025-07-08 17:00:00    15.286503   17.267603            21.0           35.0\n",
      "2025-07-08 18:00:00    10.303485   11.829713            16.0           26.0\n",
      "2025-07-08 19:00:00     9.939944   11.222717            16.0           26.0\n",
      "2025-07-08 20:00:00     9.204930   10.320360            15.0           23.0\n",
      "2025-07-08 21:00:00     8.783382    9.948583            14.0           22.0\n",
      "2025-07-08 22:00:00     8.338892    9.727729            13.0           20.0\n",
      "2025-07-08 23:00:00     8.869971    9.735321            14.0           22.0\n",
      "2025-07-09 00:00:00    12.626146   13.566713            19.0           30.0\n",
      "2025-07-09 01:00:00    13.270778   14.034170            19.0           29.0\n",
      "2025-07-09 02:00:00    11.808899   12.961073            18.0           28.0\n",
      "2025-07-09 03:00:00    10.820603   11.672136            17.0           26.0\n",
      "2025-07-09 04:00:00     9.776161   10.573200            16.0           24.0\n",
      "2025-07-09 05:00:00     8.289036    9.622284            13.0           19.0\n",
      "2025-07-09 06:00:00    10.706341   12.001563            17.0           26.0\n",
      "2025-07-09 07:00:00    12.737969   14.858931            18.0           29.0\n",
      "2025-07-09 08:00:00    12.090749   13.499028            19.0           29.0\n",
      "2025-07-09 09:00:00    11.846138   13.530659            16.0           25.0\n",
      "2025-07-09 10:00:00     8.815470   10.239586             NaN            NaN\n"
     ]
    }
   ],
   "source": [
    "# Merge the data frames into a single data frame\n",
    "daily_averages = fidas.join(hourly_avg, how='outer').sort_index()\n",
    "print(daily_averages)"
   ]
  },
  {
   "cell_type": "code",
   "execution_count": null,
   "id": "64a2684e",
   "metadata": {},
   "outputs": [],
   "source": []
  },
  {
   "cell_type": "code",
   "execution_count": 8,
   "id": "fa2159cd",
   "metadata": {},
   "outputs": [
    {
     "ename": "KeyError",
     "evalue": "['pm2.5_fidas']",
     "output_type": "error",
     "traceback": [
      "\u001b[31m---------------------------------------------------------------------------\u001b[39m",
      "\u001b[31mKeyError\u001b[39m                                  Traceback (most recent call last)",
      "\u001b[32m~\\AppData\\Local\\Temp\\ipykernel_14200\\2232023249.py\u001b[39m in \u001b[36m?\u001b[39m\u001b[34m()\u001b[39m\n\u001b[32m      1\u001b[39m \u001b[38;5;28;01mimport\u001b[39;00m matplotlib.pyplot \u001b[38;5;28;01mas\u001b[39;00m plt\n\u001b[32m      2\u001b[39m \n\u001b[32m      3\u001b[39m \u001b[38;5;66;03m# Drop rows where either sensor is NaN\u001b[39;00m\n\u001b[32m----> \u001b[39m\u001b[32m4\u001b[39m df_clean = df.dropna(subset=[\u001b[33m'pm2.5_fidas'\u001b[39m, \u001b[33m'PM2.5_aqsensor'\u001b[39m])\n\u001b[32m      5\u001b[39m \n\u001b[32m      6\u001b[39m plt.figure(figsize=(\u001b[32m6\u001b[39m, \u001b[32m6\u001b[39m))\n\u001b[32m      7\u001b[39m plt.scatter(\n",
      "\u001b[32md:\\PYTHONPROJECTS\\PM_Project\\.venv\\Lib\\site-packages\\pandas\\core\\frame.py\u001b[39m in \u001b[36m?\u001b[39m\u001b[34m(self, axis, how, thresh, subset, inplace, ignore_index)\u001b[39m\n\u001b[32m   6673\u001b[39m             ax = self._get_axis(agg_axis)\n\u001b[32m   6674\u001b[39m             indices = ax.get_indexer_for(subset)\n\u001b[32m   6675\u001b[39m             check = indices == -\u001b[32m1\u001b[39m\n\u001b[32m   6676\u001b[39m             \u001b[38;5;28;01mif\u001b[39;00m check.any():\n\u001b[32m-> \u001b[39m\u001b[32m6677\u001b[39m                 \u001b[38;5;28;01mraise\u001b[39;00m KeyError(np.array(subset)[check].tolist())\n\u001b[32m   6678\u001b[39m             agg_obj = self.take(indices, axis=agg_axis)\n\u001b[32m   6679\u001b[39m \n\u001b[32m   6680\u001b[39m         \u001b[38;5;28;01mif\u001b[39;00m thresh \u001b[38;5;28;01mis\u001b[39;00m \u001b[38;5;28;01mnot\u001b[39;00m lib.no_default:\n",
      "\u001b[31mKeyError\u001b[39m: ['pm2.5_fidas']"
     ]
    }
   ],
   "source": [
    "import matplotlib.pyplot as plt\n",
    "\n",
    "# Drop rows where either sensor is NaN\n",
    "df_clean = df.dropna(subset=['pm2.5_fidas', 'PM2.5_aqsensor'])\n",
    "\n",
    "plt.figure(figsize=(6, 6))\n",
    "plt.scatter(\n",
    "    df_clean['pm2.5_fidas'],\n",
    "    df_clean['PM2.5_aqsensor'],\n",
    "    alpha=0.7,\n",
    "    edgecolor='k'\n",
    ")\n",
    "\n",
    "# 1:1 identity line\n",
    "min_val = min(df_clean['pm2.5_fidas'].min(), df_clean['PM2.5_aqsensor'].min())\n",
    "max_val = max(df_clean['pm2.5_fidas'].max(), df_clean['PM2.5_aqsensor'].max())\n",
    "plt.plot([min_val, max_val], [min_val, max_val], 'r--', linewidth=1)\n",
    "\n",
    "plt.xlabel('PM2.5 (Fidas 200)')\n",
    "plt.ylabel('PM2.5 (AQ Sensor)')\n",
    "plt.title('PM2.5: Fidas 200 vs. AQ Sensor')\n",
    "plt.grid(True)\n",
    "plt.tight_layout()\n",
    "plt.show()\n"
   ]
  },
  {
   "cell_type": "code",
   "execution_count": 34,
   "id": "d17fd19c",
   "metadata": {},
   "outputs": [
    {
     "name": "stdout",
     "output_type": "stream",
     "text": [
      "['pm25_fidas', 'pm10_fidas', 'pm25_aqsensor', 'pm10_aqsensor']\n",
      "                     pm25_fidas  pm10_fidas  pm25_aqsensor  pm10_aqsensor\n",
      "hour                                                                     \n",
      "2025-07-07 00:00:00    7.655551    9.162436            NaN            NaN\n",
      "2025-07-07 01:00:00    8.691460   10.001117            NaN            NaN\n",
      "2025-07-07 02:00:00    5.816341    6.941643            NaN            NaN\n",
      "2025-07-07 03:00:00    6.920723    8.458798            NaN            NaN\n",
      "2025-07-07 04:00:00    8.737209   10.831236            NaN            NaN\n",
      "2025-07-07 05:00:00    5.360234    6.208059            NaN            NaN\n",
      "2025-07-07 06:00:00    1.615807    1.911242            NaN            NaN\n",
      "2025-07-07 07:00:00    2.043515    2.363016            NaN            NaN\n",
      "2025-07-07 08:00:00    3.177291    3.600274            NaN            NaN\n",
      "2025-07-07 09:00:00    5.566845    6.238856            NaN            NaN\n",
      "2025-07-07 10:00:00    6.148773    7.506386            8.0           12.0\n",
      "2025-07-07 11:00:00    5.480676    7.245462            7.0           10.0\n",
      "2025-07-07 12:00:00    6.978047    9.495774            9.0           15.0\n",
      "2025-07-07 13:00:00    8.420806   11.549124           12.0           21.0\n",
      "2025-07-07 14:00:00   10.618623   13.510493           17.0           29.0\n",
      "2025-07-07 15:00:00   12.587017   16.057449           19.0           34.0\n",
      "2025-07-07 16:00:00    8.999057   11.396823           14.0           24.0\n",
      "2025-07-07 17:00:00    9.856146   12.231314           16.0           27.0\n",
      "2025-07-07 18:00:00   11.366491   13.231521           19.0           31.0\n",
      "2025-07-07 19:00:00    9.364453   11.051777           14.0           22.0\n",
      "2025-07-07 20:00:00    7.794279    9.483004           12.0           18.0\n",
      "2025-07-07 21:00:00    7.798891    9.369804           12.0           18.0\n",
      "2025-07-07 22:00:00    8.172631   10.018803           12.0           20.0\n",
      "2025-07-07 23:00:00    8.359791   10.178091           13.0           22.0\n",
      "2025-07-08 00:00:00    9.032623   11.035289           15.0           23.0\n",
      "2025-07-08 01:00:00    8.861603   10.670700           15.0           24.0\n",
      "2025-07-08 02:00:00    9.537064   11.388112           18.0           28.0\n",
      "2025-07-08 03:00:00    9.358457   10.492103           17.0           25.0\n",
      "2025-07-08 04:00:00    9.141170   10.003955           17.0           26.0\n",
      "2025-07-08 05:00:00   10.758763   12.340972           19.0           30.0\n",
      "2025-07-08 06:00:00   12.951790   14.404423           20.0           32.0\n",
      "2025-07-08 07:00:00   11.675718   12.837548           17.0           26.0\n",
      "2025-07-08 08:00:00   13.915010   15.167323           21.0           32.0\n",
      "2025-07-08 09:00:00   17.035134   18.642830           24.0           37.0\n",
      "2025-07-08 10:00:00   13.675705   15.547561           18.0           29.0\n",
      "2025-07-08 11:00:00   14.462874   16.391255           18.0           28.0\n",
      "2025-07-08 12:00:00   10.612573   13.247102           17.0           28.0\n",
      "2025-07-08 13:00:00   11.303432   13.408424           18.0           29.0\n",
      "2025-07-08 14:00:00   11.952731   13.835830           19.0           30.0\n",
      "2025-07-08 15:00:00   13.317894   15.993402           19.0           33.0\n",
      "2025-07-08 16:00:00   10.234127   11.617240           21.0           38.0\n",
      "2025-07-08 17:00:00   15.286503   17.267603           21.0           35.0\n",
      "2025-07-08 18:00:00   10.303485   11.829713           16.0           26.0\n",
      "2025-07-08 19:00:00    9.939944   11.222717           16.0           26.0\n",
      "2025-07-08 20:00:00    9.204930   10.320360           15.0           23.0\n",
      "2025-07-08 21:00:00    8.783382    9.948583           14.0           22.0\n",
      "2025-07-08 22:00:00    8.338892    9.727729           13.0           20.0\n",
      "2025-07-08 23:00:00    8.869971    9.735321           14.0           22.0\n",
      "2025-07-09 00:00:00   12.626146   13.566713           19.0           30.0\n",
      "2025-07-09 01:00:00   13.270778   14.034170           19.0           29.0\n",
      "2025-07-09 02:00:00   11.808899   12.961073           18.0           28.0\n",
      "2025-07-09 03:00:00   10.820603   11.672136           17.0           26.0\n",
      "2025-07-09 04:00:00    9.776161   10.573200           16.0           24.0\n",
      "2025-07-09 05:00:00    8.289036    9.622284           13.0           19.0\n",
      "2025-07-09 06:00:00   10.706341   12.001563           17.0           26.0\n",
      "2025-07-09 07:00:00   12.737969   14.858931           18.0           29.0\n",
      "2025-07-09 08:00:00   12.090749   13.499028           19.0           29.0\n",
      "2025-07-09 09:00:00   11.846138   13.530659           16.0           25.0\n",
      "2025-07-09 10:00:00    8.815470   10.239586            NaN            NaN\n"
     ]
    }
   ],
   "source": [
    "# 1. See exactly what your DataFrame has\n",
    "print(daily_averages.columns.tolist())\n",
    "\n",
    "daily_averages = daily_averages.rename(columns={\n",
    "    'pm2.5_fidas':      'pm25_fidas',\n",
    "    'pm10_fidas':       'pm10_fidas',\n",
    "    'PM2.5_aqsensor':   'pm25_aqsensor',\n",
    "    'PM10_aqsensor':    'pm10_aqsensor'\n",
    "})\n",
    "print(daily_averages)\n"
   ]
  },
  {
   "cell_type": "code",
   "execution_count": 35,
   "id": "75587054",
   "metadata": {},
   "outputs": [],
   "source": [
    "import pandas as pd\n",
    "import numpy as np\n",
    "import matplotlib.pyplot as plt\n",
    "from scipy.stats import pearsonr, ttest_rel, wilcoxon\n",
    "from statsmodels.api import OLS, add_constant\n"
   ]
  },
  {
   "cell_type": "code",
   "execution_count": 37,
   "id": "c8c2640e",
   "metadata": {},
   "outputs": [
    {
     "name": "stdout",
     "output_type": "stream",
     "text": [
      "['pm25_fidas', 'pm10_fidas', 'pm25_aqsensor', 'pm10_aqsensor']\n"
     ]
    }
   ],
   "source": [
    "# strip whitespace, lower‐case, replace dots/spaces with underscores\n",
    "daily_averages.columns = [\n",
    "    col.strip()            # remove leading/trailing spaces\n",
    "       .lower()            # all lower\n",
    "       .replace('.', '')   # drop dots\n",
    "       .replace(' ', '_')  # spaces→underscores\n",
    "    for col in daily_averages.columns\n",
    "]\n",
    "\n",
    "print(daily_averages.columns.tolist())\n",
    "# now you should see:\n",
    "# ['pm25_fidas', 'pm10_fidas', 'pm25_aqsensor', 'pm10_aqsensor']\n"
   ]
  },
  {
   "cell_type": "code",
   "execution_count": null,
   "id": "15bdf96b",
   "metadata": {},
   "outputs": [],
   "source": []
  },
  {
   "cell_type": "code",
   "execution_count": 38,
   "id": "3cd09cef",
   "metadata": {},
   "outputs": [
    {
     "ename": "KeyError",
     "evalue": "'pm25_aqsensor'",
     "output_type": "error",
     "traceback": [
      "\u001b[31m---------------------------------------------------------------------------\u001b[39m",
      "\u001b[31mKeyError\u001b[39m                                  Traceback (most recent call last)",
      "\u001b[36mFile \u001b[39m\u001b[32md:\\PYTHONPROJECTS\\PM_Project\\.venv\\Lib\\site-packages\\pandas\\core\\indexes\\base.py:3812\u001b[39m, in \u001b[36mIndex.get_loc\u001b[39m\u001b[34m(self, key)\u001b[39m\n\u001b[32m   3811\u001b[39m \u001b[38;5;28;01mtry\u001b[39;00m:\n\u001b[32m-> \u001b[39m\u001b[32m3812\u001b[39m     \u001b[38;5;28;01mreturn\u001b[39;00m \u001b[38;5;28;43mself\u001b[39;49m\u001b[43m.\u001b[49m\u001b[43m_engine\u001b[49m\u001b[43m.\u001b[49m\u001b[43mget_loc\u001b[49m\u001b[43m(\u001b[49m\u001b[43mcasted_key\u001b[49m\u001b[43m)\u001b[49m\n\u001b[32m   3813\u001b[39m \u001b[38;5;28;01mexcept\u001b[39;00m \u001b[38;5;167;01mKeyError\u001b[39;00m \u001b[38;5;28;01mas\u001b[39;00m err:\n",
      "\u001b[36mFile \u001b[39m\u001b[32mpandas/_libs/index.pyx:167\u001b[39m, in \u001b[36mpandas._libs.index.IndexEngine.get_loc\u001b[39m\u001b[34m()\u001b[39m\n",
      "\u001b[36mFile \u001b[39m\u001b[32mpandas/_libs/index.pyx:191\u001b[39m, in \u001b[36mpandas._libs.index.IndexEngine.get_loc\u001b[39m\u001b[34m()\u001b[39m\n",
      "\u001b[36mFile \u001b[39m\u001b[32mpandas/_libs/index.pyx:234\u001b[39m, in \u001b[36mpandas._libs.index.IndexEngine._get_loc_duplicates\u001b[39m\u001b[34m()\u001b[39m\n",
      "\u001b[36mFile \u001b[39m\u001b[32mpandas/_libs/index.pyx:242\u001b[39m, in \u001b[36mpandas._libs.index.IndexEngine._maybe_get_bool_indexer\u001b[39m\u001b[34m()\u001b[39m\n",
      "\u001b[36mFile \u001b[39m\u001b[32mpandas/_libs/index.pyx:134\u001b[39m, in \u001b[36mpandas._libs.index._unpack_bool_indexer\u001b[39m\u001b[34m()\u001b[39m\n",
      "\u001b[31mKeyError\u001b[39m: 'pm25_aqsensor'",
      "\nThe above exception was the direct cause of the following exception:\n",
      "\u001b[31mKeyError\u001b[39m                                  Traceback (most recent call last)",
      "\u001b[36mCell\u001b[39m\u001b[36m \u001b[39m\u001b[32mIn[38]\u001b[39m\u001b[32m, line 3\u001b[39m\n\u001b[32m      1\u001b[39m \u001b[38;5;66;03m# Time‐Series Plot\u001b[39;00m\n\u001b[32m      2\u001b[39m plt.figure(figsize=(\u001b[32m10\u001b[39m,\u001b[32m5\u001b[39m))\n\u001b[32m----> \u001b[39m\u001b[32m3\u001b[39m plt.plot(df.index, \u001b[43mdf\u001b[49m\u001b[43m[\u001b[49m\u001b[33;43m'\u001b[39;49m\u001b[33;43mpm25_aqsensor\u001b[39;49m\u001b[33;43m'\u001b[39;49m\u001b[43m]\u001b[49m, label=\u001b[33m'\u001b[39m\u001b[33mPM2.5 AQ Sensor\u001b[39m\u001b[33m'\u001b[39m)\n\u001b[32m      4\u001b[39m plt.plot(df.index, df[\u001b[33m'\u001b[39m\u001b[33mpm25_fidas\u001b[39m\u001b[33m'\u001b[39m],     label=\u001b[33m'\u001b[39m\u001b[33mPM2.5 FIDAS\u001b[39m\u001b[33m'\u001b[39m)\n\u001b[32m      5\u001b[39m plt.xlabel(\u001b[33m\"\u001b[39m\u001b[33mTime\u001b[39m\u001b[33m\"\u001b[39m)\n",
      "\u001b[36mFile \u001b[39m\u001b[32md:\\PYTHONPROJECTS\\PM_Project\\.venv\\Lib\\site-packages\\pandas\\core\\frame.py:4107\u001b[39m, in \u001b[36mDataFrame.__getitem__\u001b[39m\u001b[34m(self, key)\u001b[39m\n\u001b[32m   4105\u001b[39m \u001b[38;5;28;01mif\u001b[39;00m \u001b[38;5;28mself\u001b[39m.columns.nlevels > \u001b[32m1\u001b[39m:\n\u001b[32m   4106\u001b[39m     \u001b[38;5;28;01mreturn\u001b[39;00m \u001b[38;5;28mself\u001b[39m._getitem_multilevel(key)\n\u001b[32m-> \u001b[39m\u001b[32m4107\u001b[39m indexer = \u001b[38;5;28;43mself\u001b[39;49m\u001b[43m.\u001b[49m\u001b[43mcolumns\u001b[49m\u001b[43m.\u001b[49m\u001b[43mget_loc\u001b[49m\u001b[43m(\u001b[49m\u001b[43mkey\u001b[49m\u001b[43m)\u001b[49m\n\u001b[32m   4108\u001b[39m \u001b[38;5;28;01mif\u001b[39;00m is_integer(indexer):\n\u001b[32m   4109\u001b[39m     indexer = [indexer]\n",
      "\u001b[36mFile \u001b[39m\u001b[32md:\\PYTHONPROJECTS\\PM_Project\\.venv\\Lib\\site-packages\\pandas\\core\\indexes\\base.py:3819\u001b[39m, in \u001b[36mIndex.get_loc\u001b[39m\u001b[34m(self, key)\u001b[39m\n\u001b[32m   3814\u001b[39m     \u001b[38;5;28;01mif\u001b[39;00m \u001b[38;5;28misinstance\u001b[39m(casted_key, \u001b[38;5;28mslice\u001b[39m) \u001b[38;5;129;01mor\u001b[39;00m (\n\u001b[32m   3815\u001b[39m         \u001b[38;5;28misinstance\u001b[39m(casted_key, abc.Iterable)\n\u001b[32m   3816\u001b[39m         \u001b[38;5;129;01mand\u001b[39;00m \u001b[38;5;28many\u001b[39m(\u001b[38;5;28misinstance\u001b[39m(x, \u001b[38;5;28mslice\u001b[39m) \u001b[38;5;28;01mfor\u001b[39;00m x \u001b[38;5;129;01min\u001b[39;00m casted_key)\n\u001b[32m   3817\u001b[39m     ):\n\u001b[32m   3818\u001b[39m         \u001b[38;5;28;01mraise\u001b[39;00m InvalidIndexError(key)\n\u001b[32m-> \u001b[39m\u001b[32m3819\u001b[39m     \u001b[38;5;28;01mraise\u001b[39;00m \u001b[38;5;167;01mKeyError\u001b[39;00m(key) \u001b[38;5;28;01mfrom\u001b[39;00m\u001b[38;5;250m \u001b[39m\u001b[34;01merr\u001b[39;00m\n\u001b[32m   3820\u001b[39m \u001b[38;5;28;01mexcept\u001b[39;00m \u001b[38;5;167;01mTypeError\u001b[39;00m:\n\u001b[32m   3821\u001b[39m     \u001b[38;5;66;03m# If we have a listlike key, _check_indexing_error will raise\u001b[39;00m\n\u001b[32m   3822\u001b[39m     \u001b[38;5;66;03m#  InvalidIndexError. Otherwise we fall through and re-raise\u001b[39;00m\n\u001b[32m   3823\u001b[39m     \u001b[38;5;66;03m#  the TypeError.\u001b[39;00m\n\u001b[32m   3824\u001b[39m     \u001b[38;5;28mself\u001b[39m._check_indexing_error(key)\n",
      "\u001b[31mKeyError\u001b[39m: 'pm25_aqsensor'"
     ]
    },
    {
     "data": {
      "text/plain": [
       "<Figure size 1000x500 with 0 Axes>"
      ]
     },
     "metadata": {},
     "output_type": "display_data"
    }
   ],
   "source": [
    "# Time‐Series Plot\n",
    "plt.figure(figsize=(10,5))\n",
    "plt.plot(df.index, df['pm25_aqsensor'], label='PM2.5 AQ Sensor')\n",
    "plt.plot(df.index, df['pm25_fidas'],     label='PM2.5 FIDAS')\n",
    "plt.xlabel(\"Time\")\n",
    "plt.ylabel(\"Concentration (µg/m³)\")\n",
    "plt.title(\"Hourly PM2.5: AQ‐Sensor vs FIDAS\")\n",
    "plt.legend()\n",
    "plt.grid(True)\n",
    "plt.tight_layout()\n",
    "plt.show()\n"
   ]
  },
  {
   "cell_type": "code",
   "execution_count": 1,
   "id": "16ed11d0",
   "metadata": {},
   "outputs": [
    {
     "name": "stdout",
     "output_type": "stream",
     "text": [
      "            pm2.5_fidas  pm10_fidas\n",
      "date                               \n",
      "2025-07-07     7.397111    9.085104\n",
      "2025-07-08    11.200139   12.802236\n",
      "2025-07-09    11.338413   12.577426\n"
     ]
    }
   ],
   "source": [
    "import pandas as pd\n",
    "\n",
    "# 1. Read the FIDAS data file\n",
    "#    Adjust sep='\\t' if your file is tab-delimited; use sep=r'\\s+' for whitespace.\n",
    "df = pd.read_csv(\n",
    "    'FIDAS_DATA.txt',\n",
    "    sep='\\t',\n",
    "    header=0,\n",
    "    dtype=str\n",
    ")\n",
    "\n",
    "# 2. Parse date and time into a single datetime column\n",
    "df['datetime'] = pd.to_datetime(\n",
    "    df['date'].str.strip() + ' ' + df['time'].str.strip(),\n",
    "    dayfirst=True,\n",
    "    errors='coerce'\n",
    ")\n",
    "\n",
    "# 3. Convert PM2.5 and PM10 to numeric\n",
    "df['pm25'] = pd.to_numeric(df['PM2.5'], errors='coerce')\n",
    "df['pm10'] = pd.to_numeric(df['PM10'],  errors='coerce')\n",
    "\n",
    "# 4. Drop rows with invalid datetime or PM values\n",
    "df = df.dropna(subset=['datetime', 'pm25', 'pm10'])\n",
    "\n",
    "# 5. Filter to 7th, 8th, and 9th July 2025\n",
    "mask = (df['datetime'] >= '2025-07-07') & (df['datetime'] < '2025-07-10')\n",
    "df_sub = df.loc[mask].copy()\n",
    "\n",
    "# 6. Compute average daily PM2.5 and PM10\n",
    "df_sub['date'] = df_sub['datetime'].dt.date\n",
    "daily_avg = df_sub.groupby('date')[['pm25', 'pm10']].mean()\n",
    "# Rename the columns\n",
    "daily_avg.rename(columns={\n",
    "    'pm25': 'pm2.5_fidas',\n",
    "    'pm10': 'pm10_fidas'\n",
    "}, inplace=True)\n",
    "\n",
    "print(daily_avg)\n"
   ]
  },
  {
   "cell_type": "code",
   "execution_count": 17,
   "id": "86cce5ff",
   "metadata": {},
   "outputs": [
    {
     "name": "stdout",
     "output_type": "stream",
     "text": [
      "              pm25_aq    pm10_aq  pm2.5_fidas  pm10_fidas\n",
      "timestamp                                                \n",
      "2025-07-07  13.142857  21.642857     7.397111    9.085104\n",
      "2025-07-08  17.583333  28.000000    11.200139   12.802236\n",
      "2025-07-09  17.200000  26.500000    11.338413   12.577426\n"
     ]
    }
   ],
   "source": [
    "# merge the two data frames\n",
    "df = daily.join(daily_avg)\n",
    "print(df)\n"
   ]
  },
  {
   "cell_type": "code",
   "execution_count": 22,
   "id": "a3dec73d",
   "metadata": {},
   "outputs": [
    {
     "name": "stdout",
     "output_type": "stream",
     "text": [
      "PM2.5 → Pearson r = 0.994,  R² = 0.988,  p-value = 0.069\n",
      "PM10  → Pearson r = 0.985,  R² = 0.970,  p-value = 0.111\n"
     ]
    }
   ],
   "source": [
    "import pandas as pd\n",
    "from scipy.stats import pearsonr\n",
    "# Example df:\n",
    "#             pm25_aq  pm10_aq  pm2.5_fidas  pm10_fidas\n",
    "# date                                                \n",
    "# 2025-07-07     11.3     18.5        7.40        9.09\n",
    "# 2025-07-08     17.6     28.0       11.20       12.80\n",
    "\n",
    "# 1. PM2.5 correlation\n",
    "x25 = df['pm25_aq']\n",
    "y25 = df['pm2.5_fidas']\n",
    "r25, p25 = pearsonr(x25, y25)\n",
    "r25_sq   = r25**2\n",
    "\n",
    "# 2. PM10 correlation\n",
    "x10 = df['pm10_aq']\n",
    "y10 = df['pm10_fidas']\n",
    "r10, p10 = pearsonr(x10, y10)\n",
    "r10_sq   = r10**2\n",
    "\n",
    "print(f\"PM2.5 → Pearson r = {r25:.3f},  R² = {r25_sq:.3f},  p-value = {p25:.3f}\")\n",
    "print(f\"PM10  → Pearson r = {r10:.3f},  R² = {r10_sq:.3f},  p-value = {p10:.3f}\")\n"
   ]
  },
  {
   "cell_type": "code",
   "execution_count": 27,
   "id": "6d07b767",
   "metadata": {},
   "outputs": [
    {
     "data": {
      "image/png": "[encoded data removed]",
      "text/plain": [
       "<Figure size 640x480 with 1 Axes>"
      ]
     },
     "metadata": {},
     "output_type": "display_data"
    },
    {
     "data": {
      "image/png": "[encoded data removed]",
      "text/plain": [
       "<Figure size 640x480 with 1 Axes>"
      ]
     },
     "metadata": {},
     "output_type": "display_data"
    },
    {
     "name": "stdout",
     "output_type": "stream",
     "text": [
      "Pearson r=0.994, R²=0.988\n",
      "Paired t-test: t=-30.588, p=0.001\n",
      "Wilcoxon: W=0.000, p=0.250\n",
      "Mean bias=-6.00, RMSE=6.00, NMB=-37.5%\n"
     ]
    }
   ],
   "source": [
    "import pandas as pd\n",
    "import numpy as np\n",
    "import matplotlib.pyplot as plt\n",
    "from scipy.stats import pearsonr, ttest_rel, wilcoxon\n",
    "import statsmodels.api as sm\n",
    "\n",
    "# Assume df has columns: pm25_aq, pm25_fidas indexed by date or datetime\n",
    "\n",
    "# 1. Scatter + OLS Regression\n",
    "x, y = df['pm25_aq'], df['pm2.5_fidas']\n",
    "slope, intercept = np.polyfit(x, y, 1)\n",
    "r, _ = pearsonr(x, y)\n",
    "\n",
    "# Plot\n",
    "plt.scatter(x, y, alpha=0.6)\n",
    "plt.plot(x, slope*x + intercept, 'r', label=f'y={slope:.2f}x+{intercept:.2f}, R²={r**2:.2f}')\n",
    "plt.plot(x, x, 'k--', label='1:1 Line')\n",
    "plt.xlabel('PM2.5 (AQ)')\n",
    "plt.ylabel('PM2.5 (FIDAS)')\n",
    "plt.legend()\n",
    "plt.show()\n",
    "\n",
    "# 2. Bland–Altman\n",
    "diff = y - x\n",
    "mean = (x + y) / 2\n",
    "bias, sd = diff.mean(), diff.std()\n",
    "loa = (bias - 1.96*sd, bias + 1.96*sd)\n",
    "\n",
    "plt.scatter(mean, diff, alpha=0.6)\n",
    "plt.axhline(bias, color='gray', label=f'Bias={bias:.2f}')\n",
    "plt.axhline(loa[0], color='red', linestyle='--', label=f'LoA={loa[0]:.2f}')\n",
    "plt.axhline(loa[1], color='red', linestyle='--', label=f'LoA={loa[1]:.2f}')\n",
    "plt.xlabel('Mean (AQ & FIDAS)')\n",
    "plt.ylabel('Difference (FIDAS–AQ)')\n",
    "plt.legend()\n",
    "plt.show()\n",
    "\n",
    "# 3. Statistical Tests\n",
    "# Paired t-test\n",
    "t_stat, p_t = ttest_rel(y, x)\n",
    "# Wilcoxon signed-rank\n",
    "w_stat, p_w = wilcoxon(y, x)\n",
    "\n",
    "print(f\"Pearson r={r:.3f}, R²={r**2:.3f}\")\n",
    "print(f\"Paired t-test: t={t_stat:.3f}, p={p_t:.3f}\")\n",
    "print(f\"Wilcoxon: W={w_stat:.3f}, p={p_w:.3f}\")\n",
    "\n",
    "# 4. Error Metrics\n",
    "bias = (y - x).mean()\n",
    "rmse = np.sqrt(((y - x)**2).mean())\n",
    "nmb = 100 * bias / x.mean()\n",
    "\n",
    "print(f\"Mean bias={bias:.2f}, RMSE={rmse:.2f}, NMB={nmb:.1f}%\")\n"
   ]
  }
 ],
 "metadata": {
  "kernelspec": {
   "display_name": ".venv",
   "language": "python",
   "name": "python3"
  },
  "language_info": {
   "codemirror_mode": {
    "name": "ipython",
    "version": 3
   },
   "file_extension": ".py",
   "mimetype": "text/x-python",
   "name": "python",
   "nbconvert_exporter": "python",
   "pygments_lexer": "ipython3",
   "version": "3.12.5"
  }
 },
 "nbformat": 4,
 "nbformat_minor": 5
}
