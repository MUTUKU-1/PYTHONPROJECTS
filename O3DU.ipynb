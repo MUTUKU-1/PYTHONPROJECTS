{
 "cells": [
  {
   "cell_type": "code",
   "execution_count": 2,
   "id": "dbfdb911",
   "metadata": {},
   "outputs": [
    {
     "name": "stdout",
     "output_type": "stream",
     "text": [
      "Daily Average Ozone: 237.63 DU\n"
     ]
    },
    {
     "name": "stderr",
     "output_type": "stream",
     "text": [
      "<>:4: SyntaxWarning: invalid escape sequence '\\D'\n",
      "<>:4: SyntaxWarning: invalid escape sequence '\\D'\n",
      "C:\\Users\\Frank Mutuku\\AppData\\Local\\Temp\\ipykernel_4392\\1313462682.py:4: SyntaxWarning: invalid escape sequence '\\D'\n",
      "  with open('1JAN 2024\\D0022024.018', 'r') as file:\n"
     ]
    }
   ],
   "source": [
    "import re\n",
    "\n",
    "# Load the data from a file or string\n",
    "with open('1JAN 2024\\D0022024.018', 'r') as file:\n",
    "    data = file.read()\n",
    "\n",
    "# Extract ozone values from XAD blocks\n",
    "# Pattern explanation:\n",
    "# - XAD followed by a timestamp\n",
    "# - Next three lines of float numbers (we want the third one)\n",
    "ozone_values = re.findall(r'XAD\\s+\\d{2}:\\d{2}:\\d{2}\\s+[\\d.]+\\s+[\\d.]+\\s+([\\d.]+)', data)\n",
    "\n",
    "# Convert to float\n",
    "ozone_values = [float(val) for val in ozone_values]\n",
    "\n",
    "# Calculate average\n",
    "daily_avg_ozone = sum(ozone_values) / len(ozone_values) if ozone_values else None\n",
    "\n",
    "print(f\"Daily Average Ozone: {daily_avg_ozone:.2f} DU\" if daily_avg_ozone else \"No ozone values found.\")\n"
   ]
  },
  {
   "cell_type": "code",
   "execution_count": 6,
   "id": "e99fb7ef",
   "metadata": {},
   "outputs": [
    {
     "ename": "SyntaxError",
     "evalue": "invalid syntax (2373579950.py, line 6)",
     "output_type": "error",
     "traceback": [
      "  \u001b[36mCell\u001b[39m\u001b[36m \u001b[39m\u001b[32mIn[6]\u001b[39m\u001b[32m, line 6\u001b[39m\n\u001b[31m    \u001b[39m\u001b[31mdef calculate_daily_average_ozone(r\"JAN 2024\\D0022024.018\"):\u001b[39m\n                                      ^\n\u001b[31mSyntaxError\u001b[39m\u001b[31m:\u001b[39m invalid syntax\n"
     ]
    }
   ],
   "source": [
    "import re\n",
    "from datetime import datetime\n",
    "from collections import defaultdict\n",
    "\n",
    "# Sample function to parse your data file\n",
    "def calculate_daily_average_ozone(r\"JAN 2024\\D0022024.018\"):\n",
    "    with open(r\"JAN 2024\\D0022024.018\", 'r') as f:\n",
    "        lines = f.readlines()\n",
    "\n",
    "    ozone_by_day = defaultdict(list)\n",
    "    current_date = None\n",
    "    in_obs_block = False\n",
    "    current_obs_type = None\n",
    "\n",
    "    for line in lines:\n",
    "        line = line.strip()\n",
    "\n",
    "        # Detect beginning of a new observation block\n",
    "        if line in [\"DS\", \"ZC\"]:\n",
    "            in_obs_block = True\n",
    "            current_obs_type = line\n",
    "            continue\n",
    "\n",
    "        # Extract date from line that looks like YYYY-MM-DD (e.g., \"2024-10-23\")\n",
    "        if re.match(r\"\\d{4}-\\d{2}-\\d{2}\", line):\n",
    "            try:\n",
    "                current_date = datetime.strptime(line, \"%Y-%m-%d\").date()\n",
    "            except:\n",
    "                continue\n",
    "\n",
    "        # Extract ozone value from XAD line\n",
    "        if line.startswith(\"XAD\") and in_obs_block:\n",
    "            # Expect next line to contain ozone values\n",
    "            in_obs_block = False  # end of current observation\n",
    "            continue  # go to next line for actual data\n",
    "\n",
    "        if current_obs_type and current_date and not in_obs_block:\n",
    "            try:\n",
    "                parts = line.split()\n",
    "                ozone_value = float(parts[1])  # second item is DU\n",
    "                ozone_by_day[current_date].append(ozone_value)\n",
    "            except (IndexError, ValueError):\n",
    "                pass\n",
    "            current_obs_type = None\n",
    "\n",
    "    # Compute daily average ozone\n",
    "    daily_averages = {}\n",
    "    for date, values in ozone_by_day.items():\n",
    "        if values:\n",
    "            daily_avg = sum(values) / len(values)\n",
    "            daily_averages[date] = round(daily_avg, 2)\n",
    "\n",
    "    return daily_averages\n",
    "\n",
    "\n",
    "# Example usage\n",
    "file_path = \"JAN 2024\\D0022024.018\"  # Your processed file from o3Dobson\n",
    "daily_ozone = calculate_daily_average_ozone(JAN 2024\\D0022024.018)\n",
    "\n",
    "# Print or save results\n",
    "for date in sorted(daily_ozone):\n",
    "    print(f\"{date}: {daily_ozone[date]} DU\")\n"
   ]
  }
 ],
 "metadata": {
  "kernelspec": {
   "display_name": ".venv",
   "language": "python",
   "name": "python3"
  },
  "language_info": {
   "codemirror_mode": {
    "name": "ipython",
    "version": 3
   },
   "file_extension": ".py",
   "mimetype": "text/x-python",
   "name": "python",
   "nbconvert_exporter": "python",
   "pygments_lexer": "ipython3",
   "version": "3.12.5"
  }
 },
 "nbformat": 4,
 "nbformat_minor": 5
}
