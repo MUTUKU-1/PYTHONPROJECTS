{
 "cells": [
  {
   "cell_type": "markdown",
   "id": "dac02876",
   "metadata": {},
   "source": [
    "Extracting DU data from a raw data file and computing the daily average O3 (From Dobson Spectrophotometer)"
   ]
  },
  {
   "cell_type": "code",
   "execution_count": 2,
   "id": "dbfdb911",
   "metadata": {},
   "outputs": [
    {
     "name": "stdout",
     "output_type": "stream",
     "text": [
      "Daily Average Ozone: 237.63 DU\n"
     ]
    },
    {
     "name": "stderr",
     "output_type": "stream",
     "text": [
      "<>:4: SyntaxWarning: invalid escape sequence '\\D'\n",
      "<>:4: SyntaxWarning: invalid escape sequence '\\D'\n",
      "C:\\Users\\Frank Mutuku\\AppData\\Local\\Temp\\ipykernel_5708\\1236418479.py:4: SyntaxWarning: invalid escape sequence '\\D'\n",
      "  with open('JAN 2024\\D0022024.018', 'r') as file:\n"
     ]
    }
   ],
   "source": [
    "import re\n",
    "\n",
    "# Load the data from a file or string\n",
    "with open('JAN 2024\\D0022024.018', 'r') as file:\n",
    "    data = file.read()\n",
    "\n",
    "# Extract ozone values from XAD blocks\n",
    "# Pattern explanation:\n",
    "# - XAD followed by a timestamp\n",
    "# - Next three lines of float numbers (we want the third one)\n",
    "ozone_values = re.findall(r'XAD\\s+\\d{2}:\\d{2}:\\d{2}\\s+[\\d.]+\\s+[\\d.]+\\s+([\\d.]+)', data)\n",
    "\n",
    "# Convert to float\n",
    "ozone_values = [float(val) for val in ozone_values]\n",
    "\n",
    "# Calculate average\n",
    "daily_avg_ozone = sum(ozone_values) / len(ozone_values) if ozone_values else None\n",
    "\n",
    "print(f\"Daily Average Ozone: {daily_avg_ozone:.2f} DU\" if daily_avg_ozone else \"No ozone values found.\")\n"
   ]
  },
  {
   "cell_type": "code",
   "execution_count": 30,
   "id": "4fee0b16",
   "metadata": {},
   "outputs": [
    {
     "name": "stdout",
     "output_type": "stream",
     "text": [
      "No ZC ozone data found.\n",
      "No DS ozone data found.\n"
     ]
    }
   ],
   "source": [
    "import re\n",
    "\n",
    "# Initialize containers\n",
    "zc_ozone = []\n",
    "ds_ozone = []\n",
    "\n",
    "# Read the file\n",
    "with open(r'JAN 2024\\D0082024.018', 'r') as file:\n",
    "    lines = file.readlines()\n",
    "\n",
    "current_mode = None  # Tracks whether we're in ZC or DS section\n",
    "\n",
    "for line in lines:\n",
    "    line = line.strip()\n",
    "\n",
    "    # Update the current mode\n",
    "    if line.startswith(\"ZC\"):\n",
    "        current_mode = \"ZC\"\n",
    "    elif line.startswith(\"DS\"):\n",
    "        current_mode = \"DS\"\n",
    "\n",
    "    # Extract ozone value from XAD lines\n",
    "    if line.startswith(\"XAD\") and current_mode:\n",
    "        match = re.search(r'XAD\\s+\\d{2}:\\d{2}:\\d{2}\\s+[\\d.]+\\s+[\\d.]+\\s+([\\d.]+)', line)\n",
    "        if match:\n",
    "            ozone = float(match.group(1))\n",
    "            if current_mode == \"ZC\":\n",
    "                zc_ozone.append(ozone)\n",
    "            elif current_mode == \"DS\":\n",
    "                ds_ozone.append(ozone)\n",
    "\n",
    "# Calculate and print averages\n",
    "if zc_ozone:\n",
    "    zc_avg = sum(zc_ozone) / len(zc_ozone)\n",
    "    print(f\"Average Ozone (ZC): {zc_avg:.2f} DU\")\n",
    "else:\n",
    "    print(\"No ZC ozone data found.\")\n",
    "\n",
    "if ds_ozone:\n",
    "    ds_avg = sum(ds_ozone) / len(ds_ozone)\n",
    "    print(f\"Average Ozone (DS): {ds_avg:.2f} DU\")\n",
    "else:\n",
    "    print(\"No DS ozone data found.\")\n"
   ]
  },
  {
   "cell_type": "code",
   "execution_count": 39,
   "id": "2d9a080a",
   "metadata": {},
   "outputs": [
    {
     "name": "stdout",
     "output_type": "stream",
     "text": [
      "Time: 06:12:00, Ozone: 1.731\n",
      "Time: 06:14:00, Ozone: 1.712\n",
      "Time: 06:17:00, Ozone: 1.684\n",
      "Time: 06:24:00, Ozone: 1.623\n",
      "Time: 08:04:00, Ozone: 1.153\n",
      "Time: 08:05:00, Ozone: 1.151\n",
      "Time: 08:11:00, Ozone: 1.137\n",
      "Time: 08:07:00, Ozone: 1.146\n",
      "Time: 11:13:00, Ozone: 1.121\n",
      "Time: 11:14:00, Ozone: 1.123\n",
      "Time: 11:15:00, Ozone: 1.125\n",
      "Time: 11:16:00, Ozone: 1.127\n",
      "Time: 12:07:00, Ozone: 1.272\n",
      "Time: 12:09:00, Ozone: 1.279\n",
      "Time: 12:11:00, Ozone: 1.287\n",
      "Time: 12:16:00, Ozone: 1.308\n"
     ]
    },
    {
     "name": "stderr",
     "output_type": "stream",
     "text": [
      "<>:26: SyntaxWarning: invalid escape sequence '\\D'\n",
      "<>:26: SyntaxWarning: invalid escape sequence '\\D'\n",
      "C:\\Users\\Frank Mutuku\\AppData\\Local\\Temp\\ipykernel_5708\\412701866.py:26: SyntaxWarning: invalid escape sequence '\\D'\n",
      "  with open(\"JAN 2024\\D0302024.018\", \"r\") as f:\n"
     ]
    }
   ],
   "source": [
    "import re\n",
    "from datetime import datetime\n",
    "from typing import List, Dict\n",
    "\n",
    "\n",
    "def parse_dobson_018(content: str) -> List[Dict[str, str]]:\n",
    "    ds_blocks = re.split(r'\\n(?=DS\\s+000)', content.strip())\n",
    "    ozone_data = []\n",
    "\n",
    "    for block in ds_blocks:\n",
    "        if 'XAD' not in block:\n",
    "            continue  # Skip if no ozone result\n",
    "        xad_matches = re.findall(r'XAD\\s+(\\d{2}:\\d{2}:\\d{2})\\s+([\\d.]+)', block)\n",
    "        for match in xad_matches:\n",
    "            time_str, ozone_value = match\n",
    "            ozone_data.append({\n",
    "                \"time\": time_str,\n",
    "                \"ozone\": float(ozone_value)\n",
    "            })\n",
    "    return ozone_data\n",
    "\n",
    "\n",
    "# --- Usage Example ---\n",
    "\n",
    "# Read the file contents (replace this with actual file read in practice)\n",
    "with open(\"JAN 2024\\D0302024.018\", \"r\") as f:\n",
    "    file_content = f.read()\n",
    "\n",
    "ozone_results = parse_dobson_018(file_content)\n",
    "\n",
    "# Display extracted results\n",
    "for result in ozone_results:\n",
    "    print(f\"Time: {result['time']}, Ozone: {result['ozone']:.3f}\")\n"
   ]
  },
  {
   "cell_type": "code",
   "execution_count": null,
   "id": "8a1c3a04",
   "metadata": {},
   "outputs": [],
   "source": []
  },
  {
   "cell_type": "code",
   "execution_count": null,
   "id": "c6678c0f",
   "metadata": {},
   "outputs": [],
   "source": []
  }
 ],
 "metadata": {
  "kernelspec": {
   "display_name": ".venv",
   "language": "python",
   "name": "python3"
  },
  "language_info": {
   "codemirror_mode": {
    "name": "ipython",
    "version": 3
   },
   "file_extension": ".py",
   "mimetype": "text/x-python",
   "name": "python",
   "nbconvert_exporter": "python",
   "pygments_lexer": "ipython3",
   "version": "3.12.5"
  }
 },
 "nbformat": 4,
 "nbformat_minor": 5
}
